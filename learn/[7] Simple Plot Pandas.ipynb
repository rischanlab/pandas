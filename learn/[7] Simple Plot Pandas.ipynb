{
 "metadata": {
  "name": "",
  "signature": "sha256:9368b14a42e6f41bc36ca83c3285536ea0c5c7fbe76d352fef569fff4893ab59"
 },
 "nbformat": 3,
 "nbformat_minor": 0,
 "worksheets": [
  {
   "cells": [
    {
     "cell_type": "code",
     "collapsed": false,
     "input": [
      "import pandas as pd\n",
      "import numpy as np\n",
      "from pandas import DataFrame\n",
      "\n",
      "plot_df = DataFrame(np.random.randn(100,2), columns=['x','y'])\n",
      "plot_df.head(20)"
     ],
     "language": "python",
     "metadata": {},
     "outputs": [
      {
       "html": [
        "<div style=\"max-height:1000px;max-width:1500px;overflow:auto;\">\n",
        "<table border=\"1\" class=\"dataframe\">\n",
        "  <thead>\n",
        "    <tr style=\"text-align: right;\">\n",
        "      <th></th>\n",
        "      <th>x</th>\n",
        "      <th>y</th>\n",
        "    </tr>\n",
        "  </thead>\n",
        "  <tbody>\n",
        "    <tr>\n",
        "      <th>0 </th>\n",
        "      <td>-1.519537</td>\n",
        "      <td>-0.210811</td>\n",
        "    </tr>\n",
        "    <tr>\n",
        "      <th>1 </th>\n",
        "      <td> 1.175336</td>\n",
        "      <td>-2.237080</td>\n",
        "    </tr>\n",
        "    <tr>\n",
        "      <th>2 </th>\n",
        "      <td>-0.147491</td>\n",
        "      <td> 0.323110</td>\n",
        "    </tr>\n",
        "    <tr>\n",
        "      <th>3 </th>\n",
        "      <td> 0.265885</td>\n",
        "      <td>-0.352989</td>\n",
        "    </tr>\n",
        "    <tr>\n",
        "      <th>4 </th>\n",
        "      <td> 0.756261</td>\n",
        "      <td>-1.363252</td>\n",
        "    </tr>\n",
        "    <tr>\n",
        "      <th>5 </th>\n",
        "      <td>-0.309360</td>\n",
        "      <td> 2.200511</td>\n",
        "    </tr>\n",
        "    <tr>\n",
        "      <th>6 </th>\n",
        "      <td>-0.805042</td>\n",
        "      <td> 1.443219</td>\n",
        "    </tr>\n",
        "    <tr>\n",
        "      <th>7 </th>\n",
        "      <td>-0.767490</td>\n",
        "      <td>-0.458809</td>\n",
        "    </tr>\n",
        "    <tr>\n",
        "      <th>8 </th>\n",
        "      <td>-0.749616</td>\n",
        "      <td>-0.981247</td>\n",
        "    </tr>\n",
        "    <tr>\n",
        "      <th>9 </th>\n",
        "      <td>-0.257635</td>\n",
        "      <td>-0.281153</td>\n",
        "    </tr>\n",
        "    <tr>\n",
        "      <th>10</th>\n",
        "      <td> 0.443194</td>\n",
        "      <td>-0.897152</td>\n",
        "    </tr>\n",
        "    <tr>\n",
        "      <th>11</th>\n",
        "      <td> 0.431795</td>\n",
        "      <td>-1.152134</td>\n",
        "    </tr>\n",
        "    <tr>\n",
        "      <th>12</th>\n",
        "      <td> 1.228004</td>\n",
        "      <td>-0.096331</td>\n",
        "    </tr>\n",
        "    <tr>\n",
        "      <th>13</th>\n",
        "      <td>-0.969282</td>\n",
        "      <td> 1.210343</td>\n",
        "    </tr>\n",
        "    <tr>\n",
        "      <th>14</th>\n",
        "      <td>-0.304612</td>\n",
        "      <td>-0.813541</td>\n",
        "    </tr>\n",
        "    <tr>\n",
        "      <th>15</th>\n",
        "      <td>-0.559428</td>\n",
        "      <td>-1.338298</td>\n",
        "    </tr>\n",
        "    <tr>\n",
        "      <th>16</th>\n",
        "      <td>-2.170706</td>\n",
        "      <td> 1.056621</td>\n",
        "    </tr>\n",
        "    <tr>\n",
        "      <th>17</th>\n",
        "      <td> 0.324446</td>\n",
        "      <td>-1.153500</td>\n",
        "    </tr>\n",
        "    <tr>\n",
        "      <th>18</th>\n",
        "      <td> 0.098531</td>\n",
        "      <td> 0.292884</td>\n",
        "    </tr>\n",
        "    <tr>\n",
        "      <th>19</th>\n",
        "      <td> 0.441360</td>\n",
        "      <td> 0.813348</td>\n",
        "    </tr>\n",
        "  </tbody>\n",
        "</table>\n",
        "</div>"
       ],
       "metadata": {},
       "output_type": "pyout",
       "prompt_number": 1,
       "text": [
        "           x         y\n",
        "0  -1.519537 -0.210811\n",
        "1   1.175336 -2.237080\n",
        "2  -0.147491  0.323110\n",
        "3   0.265885 -0.352989\n",
        "4   0.756261 -1.363252\n",
        "5  -0.309360  2.200511\n",
        "6  -0.805042  1.443219\n",
        "7  -0.767490 -0.458809\n",
        "8  -0.749616 -0.981247\n",
        "9  -0.257635 -0.281153\n",
        "10  0.443194 -0.897152\n",
        "11  0.431795 -1.152134\n",
        "12  1.228004 -0.096331\n",
        "13 -0.969282  1.210343\n",
        "14 -0.304612 -0.813541\n",
        "15 -0.559428 -1.338298\n",
        "16 -2.170706  1.056621\n",
        "17  0.324446 -1.153500\n",
        "18  0.098531  0.292884\n",
        "19  0.441360  0.813348"
       ]
      }
     ],
     "prompt_number": 1
    },
    {
     "cell_type": "code",
     "collapsed": false,
     "input": [
      "plot_df.plot()"
     ],
     "language": "python",
     "metadata": {},
     "outputs": [
      {
       "metadata": {},
       "output_type": "pyout",
       "prompt_number": 4,
       "text": [
        "<matplotlib.axes._subplots.AxesSubplot at 0x10a7ea790>"
       ]
      }
     ],
     "prompt_number": 4
    },
    {
     "cell_type": "code",
     "collapsed": false,
     "input": [
      "plot_df2 = plot_df\n",
      "plot_df2['y'] = plot_df2['y'].map(lambda x : x+1)\n",
      "plot_df2.plot()"
     ],
     "language": "python",
     "metadata": {},
     "outputs": [
      {
       "metadata": {},
       "output_type": "pyout",
       "prompt_number": 5,
       "text": [
        "<matplotlib.axes._subplots.AxesSubplot at 0x10a848f10>"
       ]
      }
     ],
     "prompt_number": 5
    },
    {
     "cell_type": "code",
     "collapsed": false,
     "input": [
      "plot_df2.hist()"
     ],
     "language": "python",
     "metadata": {},
     "outputs": [
      {
       "metadata": {},
       "output_type": "pyout",
       "prompt_number": 6,
       "text": [
        "array([[<matplotlib.axes._subplots.AxesSubplot object at 0x1076d1150>,\n",
        "        <matplotlib.axes._subplots.AxesSubplot object at 0x10763c350>]], dtype=object)"
       ]
      }
     ],
     "prompt_number": 6
    }
   ],
   "metadata": {}
  }
 ]
}