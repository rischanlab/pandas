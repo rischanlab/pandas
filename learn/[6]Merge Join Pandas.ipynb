{
 "metadata": {
  "name": "",
  "signature": "sha256:f365cdf1a100daa1313310f875668bc67cdedeae3075b707532407d3898c99d5"
 },
 "nbformat": 3,
 "nbformat_minor": 0,
 "worksheets": [
  {
   "cells": [
    {
     "cell_type": "code",
     "collapsed": false,
     "input": [
      "import pandas as pd\n",
      "import numpy as np\n",
      "from pandas import DataFrame, Series\n",
      "df = DataFrame(\n",
      "    {'integer':[1,2,3,6,7,23,8,3],\n",
      "     'float':[2,3.4,5,6,2,4.7,4,8],\n",
      "     'string':['saya',None,'aku','cinta','kamu','a','b','jika']}\n",
      ")\n",
      "df"
     ],
     "language": "python",
     "metadata": {},
     "outputs": [
      {
       "html": [
        "<div style=\"max-height:1000px;max-width:1500px;overflow:auto;\">\n",
        "<table border=\"1\" class=\"dataframe\">\n",
        "  <thead>\n",
        "    <tr style=\"text-align: right;\">\n",
        "      <th></th>\n",
        "      <th>float</th>\n",
        "      <th>integer</th>\n",
        "      <th>string</th>\n",
        "    </tr>\n",
        "  </thead>\n",
        "  <tbody>\n",
        "    <tr>\n",
        "      <th>0</th>\n",
        "      <td> 2.0</td>\n",
        "      <td>  1</td>\n",
        "      <td>  saya</td>\n",
        "    </tr>\n",
        "    <tr>\n",
        "      <th>1</th>\n",
        "      <td> 3.4</td>\n",
        "      <td>  2</td>\n",
        "      <td>  None</td>\n",
        "    </tr>\n",
        "    <tr>\n",
        "      <th>2</th>\n",
        "      <td> 5.0</td>\n",
        "      <td>  3</td>\n",
        "      <td>   aku</td>\n",
        "    </tr>\n",
        "    <tr>\n",
        "      <th>3</th>\n",
        "      <td> 6.0</td>\n",
        "      <td>  6</td>\n",
        "      <td> cinta</td>\n",
        "    </tr>\n",
        "    <tr>\n",
        "      <th>4</th>\n",
        "      <td> 2.0</td>\n",
        "      <td>  7</td>\n",
        "      <td>  kamu</td>\n",
        "    </tr>\n",
        "    <tr>\n",
        "      <th>5</th>\n",
        "      <td> 4.7</td>\n",
        "      <td> 23</td>\n",
        "      <td>     a</td>\n",
        "    </tr>\n",
        "    <tr>\n",
        "      <th>6</th>\n",
        "      <td> 4.0</td>\n",
        "      <td>  8</td>\n",
        "      <td>     b</td>\n",
        "    </tr>\n",
        "    <tr>\n",
        "      <th>7</th>\n",
        "      <td> 8.0</td>\n",
        "      <td>  3</td>\n",
        "      <td>  jika</td>\n",
        "    </tr>\n",
        "  </tbody>\n",
        "</table>\n",
        "</div>"
       ],
       "metadata": {},
       "output_type": "pyout",
       "prompt_number": 2,
       "text": [
        "   float  integer string\n",
        "0    2.0        1   saya\n",
        "1    3.4        2   None\n",
        "2    5.0        3    aku\n",
        "3    6.0        6  cinta\n",
        "4    2.0        7   kamu\n",
        "5    4.7       23      a\n",
        "6    4.0        8      b\n",
        "7    8.0        3   jika"
       ]
      }
     ],
     "prompt_number": 2
    },
    {
     "cell_type": "code",
     "collapsed": false,
     "input": [
      "df_new = DataFrame(\n",
      "{'string':['a','b'],\n",
      " 'str_value':[2,4]}\n",
      ")\n",
      "df_new"
     ],
     "language": "python",
     "metadata": {},
     "outputs": [
      {
       "html": [
        "<div style=\"max-height:1000px;max-width:1500px;overflow:auto;\">\n",
        "<table border=\"1\" class=\"dataframe\">\n",
        "  <thead>\n",
        "    <tr style=\"text-align: right;\">\n",
        "      <th></th>\n",
        "      <th>str_value</th>\n",
        "      <th>string</th>\n",
        "    </tr>\n",
        "  </thead>\n",
        "  <tbody>\n",
        "    <tr>\n",
        "      <th>0</th>\n",
        "      <td> 2</td>\n",
        "      <td> a</td>\n",
        "    </tr>\n",
        "    <tr>\n",
        "      <th>1</th>\n",
        "      <td> 4</td>\n",
        "      <td> b</td>\n",
        "    </tr>\n",
        "  </tbody>\n",
        "</table>\n",
        "</div>"
       ],
       "metadata": {},
       "output_type": "pyout",
       "prompt_number": 5,
       "text": [
        "   str_value string\n",
        "0          2      a\n",
        "1          4      b"
       ]
      }
     ],
     "prompt_number": 5
    },
    {
     "cell_type": "code",
     "collapsed": false,
     "input": [
      "df_merge_inner = pd.merge(df,df_new,on='string',how='inner')\n",
      "print df_merge_inner"
     ],
     "language": "python",
     "metadata": {},
     "outputs": [
      {
       "output_type": "stream",
       "stream": "stdout",
       "text": [
        "   float  integer string  str_value\n",
        "0    4.7       23      a          2\n",
        "1    4.0        8      b          4\n"
       ]
      }
     ],
     "prompt_number": 6
    },
    {
     "cell_type": "code",
     "collapsed": false,
     "input": [
      "df_merge_outer = pd.merge(df,df_new,on='string',how='outer')\n",
      "print df_merge_outer"
     ],
     "language": "python",
     "metadata": {},
     "outputs": [
      {
       "output_type": "stream",
       "stream": "stdout",
       "text": [
        "   float  integer string  str_value\n",
        "0    2.0        1   saya        NaN\n",
        "1    3.4        2   None        NaN\n",
        "2    5.0        3    aku        NaN\n",
        "3    6.0        6  cinta        NaN\n",
        "4    2.0        7   kamu        NaN\n",
        "5    4.7       23      a          2\n",
        "6    4.0        8      b          4\n",
        "7    8.0        3   jika        NaN\n"
       ]
      }
     ],
     "prompt_number": 8
    },
    {
     "cell_type": "code",
     "collapsed": false,
     "input": [
      "df_merge_left = pd.merge(df,df_new,on='string',how='left')\n",
      "df_merge_left"
     ],
     "language": "python",
     "metadata": {},
     "outputs": [
      {
       "html": [
        "<div style=\"max-height:1000px;max-width:1500px;overflow:auto;\">\n",
        "<table border=\"1\" class=\"dataframe\">\n",
        "  <thead>\n",
        "    <tr style=\"text-align: right;\">\n",
        "      <th></th>\n",
        "      <th>float</th>\n",
        "      <th>integer</th>\n",
        "      <th>string</th>\n",
        "      <th>str_value</th>\n",
        "    </tr>\n",
        "  </thead>\n",
        "  <tbody>\n",
        "    <tr>\n",
        "      <th>0</th>\n",
        "      <td> 2.0</td>\n",
        "      <td>  1</td>\n",
        "      <td>  saya</td>\n",
        "      <td>NaN</td>\n",
        "    </tr>\n",
        "    <tr>\n",
        "      <th>1</th>\n",
        "      <td> 3.4</td>\n",
        "      <td>  2</td>\n",
        "      <td>  None</td>\n",
        "      <td>NaN</td>\n",
        "    </tr>\n",
        "    <tr>\n",
        "      <th>2</th>\n",
        "      <td> 5.0</td>\n",
        "      <td>  3</td>\n",
        "      <td>   aku</td>\n",
        "      <td>NaN</td>\n",
        "    </tr>\n",
        "    <tr>\n",
        "      <th>3</th>\n",
        "      <td> 6.0</td>\n",
        "      <td>  6</td>\n",
        "      <td> cinta</td>\n",
        "      <td>NaN</td>\n",
        "    </tr>\n",
        "    <tr>\n",
        "      <th>4</th>\n",
        "      <td> 2.0</td>\n",
        "      <td>  7</td>\n",
        "      <td>  kamu</td>\n",
        "      <td>NaN</td>\n",
        "    </tr>\n",
        "    <tr>\n",
        "      <th>5</th>\n",
        "      <td> 4.7</td>\n",
        "      <td> 23</td>\n",
        "      <td>     a</td>\n",
        "      <td>  2</td>\n",
        "    </tr>\n",
        "    <tr>\n",
        "      <th>6</th>\n",
        "      <td> 4.0</td>\n",
        "      <td>  8</td>\n",
        "      <td>     b</td>\n",
        "      <td>  4</td>\n",
        "    </tr>\n",
        "    <tr>\n",
        "      <th>7</th>\n",
        "      <td> 8.0</td>\n",
        "      <td>  3</td>\n",
        "      <td>  jika</td>\n",
        "      <td>NaN</td>\n",
        "    </tr>\n",
        "  </tbody>\n",
        "</table>\n",
        "</div>"
       ],
       "metadata": {},
       "output_type": "pyout",
       "prompt_number": 9,
       "text": [
        "   float  integer string  str_value\n",
        "0    2.0        1   saya        NaN\n",
        "1    3.4        2   None        NaN\n",
        "2    5.0        3    aku        NaN\n",
        "3    6.0        6  cinta        NaN\n",
        "4    2.0        7   kamu        NaN\n",
        "5    4.7       23      a          2\n",
        "6    4.0        8      b          4\n",
        "7    8.0        3   jika        NaN"
       ]
      }
     ],
     "prompt_number": 9
    },
    {
     "cell_type": "code",
     "collapsed": false,
     "input": [
      "df_merge_right = pd.merge(df,df_new,on='string',how='right')\n",
      "df_merge_right"
     ],
     "language": "python",
     "metadata": {},
     "outputs": [
      {
       "html": [
        "<div style=\"max-height:1000px;max-width:1500px;overflow:auto;\">\n",
        "<table border=\"1\" class=\"dataframe\">\n",
        "  <thead>\n",
        "    <tr style=\"text-align: right;\">\n",
        "      <th></th>\n",
        "      <th>float</th>\n",
        "      <th>integer</th>\n",
        "      <th>string</th>\n",
        "      <th>str_value</th>\n",
        "    </tr>\n",
        "  </thead>\n",
        "  <tbody>\n",
        "    <tr>\n",
        "      <th>0</th>\n",
        "      <td> 4.7</td>\n",
        "      <td> 23</td>\n",
        "      <td> a</td>\n",
        "      <td> 2</td>\n",
        "    </tr>\n",
        "    <tr>\n",
        "      <th>1</th>\n",
        "      <td> 4.0</td>\n",
        "      <td>  8</td>\n",
        "      <td> b</td>\n",
        "      <td> 4</td>\n",
        "    </tr>\n",
        "  </tbody>\n",
        "</table>\n",
        "</div>"
       ],
       "metadata": {},
       "output_type": "pyout",
       "prompt_number": 10,
       "text": [
        "   float  integer string  str_value\n",
        "0    4.7       23      a          2\n",
        "1    4.0        8      b          4"
       ]
      }
     ],
     "prompt_number": 10
    }
   ],
   "metadata": {}
  }
 ]
}