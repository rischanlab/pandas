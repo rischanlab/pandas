{
 "cells": [
  {
   "cell_type": "markdown",
   "metadata": {},
   "source": [
    "Try to get some value from my facebook account"
   ]
  },
  {
   "cell_type": "code",
   "execution_count": 12,
   "metadata": {
    "collapsed": false
   },
   "outputs": [],
   "source": [
    "import requests\n",
    "import json\n",
    "token = \"CAACEdEose0cBADLXNakLQB4pVuW7kfZACYVJXCCm8eaW6ZClOaZCP6X9DRqTXZAfyG32YZCYRWq8qua5DrwEhTDKSU436FHGpmZCrAA9dTjWLv6wPqglcH5YZBBoMK4EIVSKeG8AKo1EAORxwolsJ6vNvGZAdL1ZAWB0Rc5QVCdvw55YNNeD6bAxzbBMnbpJjTDyT3XZB4szRt49lgIr2iZBbbb\"\n",
    "\n",
    "base_url = \"https://graph.facebook.com/me\"\n",
    "fields = \"id, name, friends.limit(10).friends(likes.limit(10))\"\n",
    "\n",
    "url = \"%s?fields=%s&access_token=%s\" % (base_url, fields, token,)\n"
   ]
  },
  {
   "cell_type": "code",
   "execution_count": 13,
   "metadata": {
    "collapsed": false
   },
   "outputs": [
    {
     "name": "stdout",
     "output_type": "stream",
     "text": [
      "https://graph.facebook.com/me?fields=id, name, friends.limit(10).friends(likes.limit(10))&access_token=CAACEdEose0cBADLXNakLQB4pVuW7kfZACYVJXCCm8eaW6ZClOaZCP6X9DRqTXZAfyG32YZCYRWq8qua5DrwEhTDKSU436FHGpmZCrAA9dTjWLv6wPqglcH5YZBBoMK4EIVSKeG8AKo1EAORxwolsJ6vNvGZAdL1ZAWB0Rc5QVCdvw55YNNeD6bAxzbBMnbpJjTDyT3XZB4szRt49lgIr2iZBbbb\n"
     ]
    }
   ],
   "source": [
    "print url"
   ]
  },
  {
   "cell_type": "code",
   "execution_count": 22,
   "metadata": {
    "collapsed": true
   },
   "outputs": [],
   "source": [
    "content = requests.get(url).json()"
   ]
  },
  {
   "cell_type": "code",
   "execution_count": 26,
   "metadata": {
    "collapsed": false
   },
   "outputs": [
    {
     "name": "stdout",
     "output_type": "stream",
     "text": [
      "{\n",
      " \"friends\": {\n",
      "  \"paging\": {\n",
      "   \"next\": \"https://graph.facebook.com/v2.0/616319281824459/friends?limit=10&access_token=CAACEdEose0cBADLXNakLQB4pVuW7kfZACYVJXCCm8eaW6ZClOaZCP6X9DRqTXZAfyG32YZCYRWq8qua5DrwEhTDKSU436FHGpmZCrAA9dTjWLv6wPqglcH5YZBBoMK4EIVSKeG8AKo1EAORxwolsJ6vNvGZAdL1ZAWB0Rc5QVCdvw55YNNeD6bAxzbBMnbpJjTDyT3XZB4szRt49lgIr2iZBbbb&offset=10&__after_id=enc_AdBW0PQvVkvbtHreU6IZBRyb4bzPvuyAN0YmGf6wHatrPuuCs6fZCvYola1NxAWOB48MkZD\"\n",
      "  }, \n",
      "  \"data\": [\n",
      "   {\n",
      "    \"name\": \"Ali Fahmi\", \n",
      "    \"id\": \"529998151\"\n",
      "   }, \n",
      "   {\n",
      "    \"name\": \"Panji Gautama Asmawarman\", \n",
      "    \"id\": \"1039067503\"\n",
      "   }, \n",
      "   {\n",
      "    \"name\": \"Suryana Wijaya\", \n",
      "    \"id\": \"1063787281\"\n",
      "   }, \n",
      "   {\n",
      "    \"name\": \"Titus Irma Damaiyanti\", \n",
      "    \"id\": \"1187086783\"\n",
      "   }, \n",
      "   {\n",
      "    \"name\": \"Irvan Arifin\", \n",
      "    \"id\": \"1213002292\"\n",
      "   }, \n",
      "   {\n",
      "    \"name\": \"Estu Fardani\", \n",
      "    \"id\": \"10203421596720233\"\n",
      "   }, \n",
      "   {\n",
      "    \"name\": \"Rifauddin Tsalitsy\", \n",
      "    \"id\": \"1233292061\"\n",
      "   }, \n",
      "   {\n",
      "    \"name\": \"Adi Wirawan\", \n",
      "    \"id\": \"1388730659\"\n",
      "   }, \n",
      "   {\n",
      "    \"name\": \"Fendi Tri Cahyono\", \n",
      "    \"id\": \"1502321055\"\n",
      "   }, \n",
      "   {\n",
      "    \"name\": \"Kresna Galuh\", \n",
      "    \"id\": \"1619147610\"\n",
      "   }\n",
      "  ], \n",
      "  \"summary\": {\n",
      "   \"total_count\": 1517\n",
      "  }\n",
      " }, \n",
      " \"id\": \"616319281824459\", \n",
      " \"name\": \"Mafrur Rischan\"\n",
      "}\n"
     ]
    }
   ],
   "source": [
    "print json.dumps(content, indent=1)"
   ]
  }
 ],
 "metadata": {
  "kernelspec": {
   "display_name": "Python 2",
   "language": "python",
   "name": "python2"
  },
  "language_info": {
   "codemirror_mode": {
    "name": "ipython",
    "version": 2
   },
   "file_extension": ".py",
   "mimetype": "text/x-python",
   "name": "python",
   "nbconvert_exporter": "python",
   "pygments_lexer": "ipython2",
   "version": "2.7.9"
  }
 },
 "nbformat": 4,
 "nbformat_minor": 0
}
