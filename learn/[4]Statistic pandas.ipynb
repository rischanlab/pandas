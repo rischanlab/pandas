{
 "metadata": {
  "name": "",
  "signature": "sha256:9054131d1c2c75baa2f86ef11c492a7d88affe4e51074ae77f6f2713c5645616"
 },
 "nbformat": 3,
 "nbformat_minor": 0,
 "worksheets": [
  {
   "cells": [
    {
     "cell_type": "code",
     "collapsed": false,
     "input": [
      "import pandas as pd\n",
      "import numpy as np\n",
      "from pandas import DataFrame, Series\n",
      "df = DataFrame(\n",
      "    {'integer':[1,2,3,6,7,23,8,3],\n",
      "     'float':[2,3.4,5,6,2,4.7,4,8],\n",
      "     'string':['saya',None,'aku','cinta','kamu','a','b','jika']}\n",
      ")\n",
      "\n",
      "df"
     ],
     "language": "python",
     "metadata": {},
     "outputs": [
      {
       "html": [
        "<div style=\"max-height:1000px;max-width:1500px;overflow:auto;\">\n",
        "<table border=\"1\" class=\"dataframe\">\n",
        "  <thead>\n",
        "    <tr style=\"text-align: right;\">\n",
        "      <th></th>\n",
        "      <th>float</th>\n",
        "      <th>integer</th>\n",
        "      <th>string</th>\n",
        "    </tr>\n",
        "  </thead>\n",
        "  <tbody>\n",
        "    <tr>\n",
        "      <th>0</th>\n",
        "      <td> 2.0</td>\n",
        "      <td>  1</td>\n",
        "      <td>  saya</td>\n",
        "    </tr>\n",
        "    <tr>\n",
        "      <th>1</th>\n",
        "      <td> 3.4</td>\n",
        "      <td>  2</td>\n",
        "      <td>  None</td>\n",
        "    </tr>\n",
        "    <tr>\n",
        "      <th>2</th>\n",
        "      <td> 5.0</td>\n",
        "      <td>  3</td>\n",
        "      <td>   aku</td>\n",
        "    </tr>\n",
        "    <tr>\n",
        "      <th>3</th>\n",
        "      <td> 6.0</td>\n",
        "      <td>  6</td>\n",
        "      <td> cinta</td>\n",
        "    </tr>\n",
        "    <tr>\n",
        "      <th>4</th>\n",
        "      <td> 2.0</td>\n",
        "      <td>  7</td>\n",
        "      <td>  kamu</td>\n",
        "    </tr>\n",
        "    <tr>\n",
        "      <th>5</th>\n",
        "      <td> 4.7</td>\n",
        "      <td> 23</td>\n",
        "      <td>     a</td>\n",
        "    </tr>\n",
        "    <tr>\n",
        "      <th>6</th>\n",
        "      <td> 4.0</td>\n",
        "      <td>  8</td>\n",
        "      <td>     b</td>\n",
        "    </tr>\n",
        "    <tr>\n",
        "      <th>7</th>\n",
        "      <td> 8.0</td>\n",
        "      <td>  3</td>\n",
        "      <td>  jika</td>\n",
        "    </tr>\n",
        "  </tbody>\n",
        "</table>\n",
        "</div>"
       ],
       "metadata": {},
       "output_type": "pyout",
       "prompt_number": 2,
       "text": [
        "   float  integer string\n",
        "0    2.0        1   saya\n",
        "1    3.4        2   None\n",
        "2    5.0        3    aku\n",
        "3    6.0        6  cinta\n",
        "4    2.0        7   kamu\n",
        "5    4.7       23      a\n",
        "6    4.0        8      b\n",
        "7    8.0        3   jika"
       ]
      }
     ],
     "prompt_number": 2
    },
    {
     "cell_type": "code",
     "collapsed": false,
     "input": [
      "df.describe()"
     ],
     "language": "python",
     "metadata": {},
     "outputs": [
      {
       "html": [
        "<div style=\"max-height:1000px;max-width:1500px;overflow:auto;\">\n",
        "<table border=\"1\" class=\"dataframe\">\n",
        "  <thead>\n",
        "    <tr style=\"text-align: right;\">\n",
        "      <th></th>\n",
        "      <th>float</th>\n",
        "      <th>integer</th>\n",
        "    </tr>\n",
        "  </thead>\n",
        "  <tbody>\n",
        "    <tr>\n",
        "      <th>count</th>\n",
        "      <td> 8.000000</td>\n",
        "      <td>  8.000000</td>\n",
        "    </tr>\n",
        "    <tr>\n",
        "      <th>mean</th>\n",
        "      <td> 4.387500</td>\n",
        "      <td>  6.625000</td>\n",
        "    </tr>\n",
        "    <tr>\n",
        "      <th>std</th>\n",
        "      <td> 2.023037</td>\n",
        "      <td>  7.069805</td>\n",
        "    </tr>\n",
        "    <tr>\n",
        "      <th>min</th>\n",
        "      <td> 2.000000</td>\n",
        "      <td>  1.000000</td>\n",
        "    </tr>\n",
        "    <tr>\n",
        "      <th>25%</th>\n",
        "      <td> 3.050000</td>\n",
        "      <td>  2.750000</td>\n",
        "    </tr>\n",
        "    <tr>\n",
        "      <th>50%</th>\n",
        "      <td> 4.350000</td>\n",
        "      <td>  4.500000</td>\n",
        "    </tr>\n",
        "    <tr>\n",
        "      <th>75%</th>\n",
        "      <td> 5.250000</td>\n",
        "      <td>  7.250000</td>\n",
        "    </tr>\n",
        "    <tr>\n",
        "      <th>max</th>\n",
        "      <td> 8.000000</td>\n",
        "      <td> 23.000000</td>\n",
        "    </tr>\n",
        "  </tbody>\n",
        "</table>\n",
        "</div>"
       ],
       "metadata": {},
       "output_type": "pyout",
       "prompt_number": 3,
       "text": [
        "          float    integer\n",
        "count  8.000000   8.000000\n",
        "mean   4.387500   6.625000\n",
        "std    2.023037   7.069805\n",
        "min    2.000000   1.000000\n",
        "25%    3.050000   2.750000\n",
        "50%    4.350000   4.500000\n",
        "75%    5.250000   7.250000\n",
        "max    8.000000  23.000000"
       ]
      }
     ],
     "prompt_number": 3
    },
    {
     "cell_type": "code",
     "collapsed": false,
     "input": [
      "df.cov()"
     ],
     "language": "python",
     "metadata": {},
     "outputs": [
      {
       "html": [
        "<div style=\"max-height:1000px;max-width:1500px;overflow:auto;\">\n",
        "<table border=\"1\" class=\"dataframe\">\n",
        "  <thead>\n",
        "    <tr style=\"text-align: right;\">\n",
        "      <th></th>\n",
        "      <th>float</th>\n",
        "      <th>integer</th>\n",
        "    </tr>\n",
        "  </thead>\n",
        "  <tbody>\n",
        "    <tr>\n",
        "      <th>float</th>\n",
        "      <td> 4.092679</td>\n",
        "      <td>  0.766071</td>\n",
        "    </tr>\n",
        "    <tr>\n",
        "      <th>integer</th>\n",
        "      <td> 0.766071</td>\n",
        "      <td> 49.982143</td>\n",
        "    </tr>\n",
        "  </tbody>\n",
        "</table>\n",
        "</div>"
       ],
       "metadata": {},
       "output_type": "pyout",
       "prompt_number": 4,
       "text": [
        "            float    integer\n",
        "float    4.092679   0.766071\n",
        "integer  0.766071  49.982143"
       ]
      }
     ],
     "prompt_number": 4
    },
    {
     "cell_type": "code",
     "collapsed": false,
     "input": [
      "df.corr()"
     ],
     "language": "python",
     "metadata": {},
     "outputs": [
      {
       "html": [
        "<div style=\"max-height:1000px;max-width:1500px;overflow:auto;\">\n",
        "<table border=\"1\" class=\"dataframe\">\n",
        "  <thead>\n",
        "    <tr style=\"text-align: right;\">\n",
        "      <th></th>\n",
        "      <th>float</th>\n",
        "      <th>integer</th>\n",
        "    </tr>\n",
        "  </thead>\n",
        "  <tbody>\n",
        "    <tr>\n",
        "      <th>float</th>\n",
        "      <td> 1.000000</td>\n",
        "      <td> 0.053562</td>\n",
        "    </tr>\n",
        "    <tr>\n",
        "      <th>integer</th>\n",
        "      <td> 0.053562</td>\n",
        "      <td> 1.000000</td>\n",
        "    </tr>\n",
        "  </tbody>\n",
        "</table>\n",
        "</div>"
       ],
       "metadata": {},
       "output_type": "pyout",
       "prompt_number": 5,
       "text": [
        "            float   integer\n",
        "float    1.000000  0.053562\n",
        "integer  0.053562  1.000000"
       ]
      }
     ],
     "prompt_number": 5
    },
    {
     "cell_type": "code",
     "collapsed": false,
     "input": [],
     "language": "python",
     "metadata": {},
     "outputs": []
    }
   ],
   "metadata": {}
  }
 ]
}