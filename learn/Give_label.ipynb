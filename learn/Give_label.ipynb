{
 "metadata": {
  "name": "",
  "signature": "sha256:24710bf39b920b51b9c2761d2bc7946275d4cabec2f0c95513320f197eb96951"
 },
 "nbformat": 3,
 "nbformat_minor": 0,
 "worksheets": [
  {
   "cells": [
    {
     "cell_type": "code",
     "collapsed": false,
     "input": [
      "import pandas as pd\n",
      "from pandas import DataFrame, Series\n",
      "\n",
      "df = DataFrame(\n",
      "{'madesu':['gembus1','gembus2','gembus3','gembus4','gembus5'],\n",
      " 'url':['facebook.com','twitter.com','sport.com','chonnam.com','facebook.com']}\n",
      ")"
     ],
     "language": "python",
     "metadata": {},
     "outputs": [],
     "prompt_number": 4
    },
    {
     "cell_type": "code",
     "collapsed": false,
     "input": [
      "df"
     ],
     "language": "python",
     "metadata": {},
     "outputs": [
      {
       "html": [
        "<div style=\"max-height:1000px;max-width:1500px;overflow:auto;\">\n",
        "<table border=\"1\" class=\"dataframe\">\n",
        "  <thead>\n",
        "    <tr style=\"text-align: right;\">\n",
        "      <th></th>\n",
        "      <th>madesu</th>\n",
        "      <th>url</th>\n",
        "    </tr>\n",
        "  </thead>\n",
        "  <tbody>\n",
        "    <tr>\n",
        "      <th>0</th>\n",
        "      <td> gembus1</td>\n",
        "      <td> facebook.com</td>\n",
        "    </tr>\n",
        "    <tr>\n",
        "      <th>1</th>\n",
        "      <td> gembus2</td>\n",
        "      <td>  twitter.com</td>\n",
        "    </tr>\n",
        "    <tr>\n",
        "      <th>2</th>\n",
        "      <td> gembus3</td>\n",
        "      <td>    sport.com</td>\n",
        "    </tr>\n",
        "    <tr>\n",
        "      <th>3</th>\n",
        "      <td> gembus4</td>\n",
        "      <td>  chonnam.com</td>\n",
        "    </tr>\n",
        "    <tr>\n",
        "      <th>4</th>\n",
        "      <td> gembus5</td>\n",
        "      <td> facebook.com</td>\n",
        "    </tr>\n",
        "  </tbody>\n",
        "</table>\n",
        "</div>"
       ],
       "metadata": {},
       "output_type": "pyout",
       "prompt_number": 5,
       "text": [
        "    madesu           url\n",
        "0  gembus1  facebook.com\n",
        "1  gembus2   twitter.com\n",
        "2  gembus3     sport.com\n",
        "3  gembus4   chonnam.com\n",
        "4  gembus5  facebook.com"
       ]
      }
     ],
     "prompt_number": 5
    },
    {
     "cell_type": "code",
     "collapsed": false,
     "input": [
      "def kasih_label(x):\n",
      "    if x == \"facebook.com\":\n",
      "        return \"sosmed\"\n",
      "    elif x == \"twitter.com\":\n",
      "        return \"sosmed\"\n",
      "    elif x == \"sport.com\":\n",
      "        return \"sport\"\n",
      "    else:\n",
      "        return \"others\"\n",
      "    \n"
     ],
     "language": "python",
     "metadata": {},
     "outputs": [],
     "prompt_number": 8
    },
    {
     "cell_type": "code",
     "collapsed": false,
     "input": [
      "df['label'] = df['url'].apply(kasih_label)"
     ],
     "language": "python",
     "metadata": {},
     "outputs": [],
     "prompt_number": 9
    },
    {
     "cell_type": "code",
     "collapsed": false,
     "input": [
      "df"
     ],
     "language": "python",
     "metadata": {},
     "outputs": [
      {
       "html": [
        "<div style=\"max-height:1000px;max-width:1500px;overflow:auto;\">\n",
        "<table border=\"1\" class=\"dataframe\">\n",
        "  <thead>\n",
        "    <tr style=\"text-align: right;\">\n",
        "      <th></th>\n",
        "      <th>madesu</th>\n",
        "      <th>url</th>\n",
        "      <th>label</th>\n",
        "    </tr>\n",
        "  </thead>\n",
        "  <tbody>\n",
        "    <tr>\n",
        "      <th>0</th>\n",
        "      <td> gembus1</td>\n",
        "      <td> facebook.com</td>\n",
        "      <td> sosmed</td>\n",
        "    </tr>\n",
        "    <tr>\n",
        "      <th>1</th>\n",
        "      <td> gembus2</td>\n",
        "      <td>  twitter.com</td>\n",
        "      <td> sosmed</td>\n",
        "    </tr>\n",
        "    <tr>\n",
        "      <th>2</th>\n",
        "      <td> gembus3</td>\n",
        "      <td>    sport.com</td>\n",
        "      <td>  sport</td>\n",
        "    </tr>\n",
        "    <tr>\n",
        "      <th>3</th>\n",
        "      <td> gembus4</td>\n",
        "      <td>  chonnam.com</td>\n",
        "      <td> others</td>\n",
        "    </tr>\n",
        "    <tr>\n",
        "      <th>4</th>\n",
        "      <td> gembus5</td>\n",
        "      <td> facebook.com</td>\n",
        "      <td> sosmed</td>\n",
        "    </tr>\n",
        "  </tbody>\n",
        "</table>\n",
        "</div>"
       ],
       "metadata": {},
       "output_type": "pyout",
       "prompt_number": 10,
       "text": [
        "    madesu           url   label\n",
        "0  gembus1  facebook.com  sosmed\n",
        "1  gembus2   twitter.com  sosmed\n",
        "2  gembus3     sport.com   sport\n",
        "3  gembus4   chonnam.com  others\n",
        "4  gembus5  facebook.com  sosmed"
       ]
      }
     ],
     "prompt_number": 10
    }
   ],
   "metadata": {}
  }
 ]
}