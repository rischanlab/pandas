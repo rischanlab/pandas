{
 "metadata": {
  "name": "",
  "signature": "sha256:b287b5efee0dd563a8ee77b3fc7802a66764d15b73bbe385130d1b4a7a5bf7af"
 },
 "nbformat": 3,
 "nbformat_minor": 0,
 "worksheets": [
  {
   "cells": [
    {
     "cell_type": "code",
     "collapsed": false,
     "input": [
      "import pandas as pd\n",
      "import numpy as np\n",
      "import os, sqlite3\n",
      "import json\n",
      "from urllib import urlencode\n",
      "from urlparse import urlparse, parse_qs, urlunparse\n",
      "import urlparse\n",
      "import pprint\n",
      "from difflib import SequenceMatcher\n",
      "\n",
      "\n",
      "\n",
      "def parsed(x):\n",
      "    parse = urlparse.urlparse(x)\n",
      "    return parse.netloc\n",
      "\n",
      "\n",
      "lines = []\n",
      "\n",
      "databases = []\n",
      "dataku = []\n",
      "\n",
      "\n",
      "directory = \"D:/DATA/example\"\n",
      "for filename in os.listdir(directory):\n",
      "    flname = os.path.join(directory, filename)\n",
      "    databases.append(flname)\n",
      "\n",
      "for database in databases:\n",
      "\n",
      "    try:\n",
      "        with sqlite3.connect(database) as conn:\n",
      "            cur = conn.cursor()\n",
      "            sqlqry = pd.read_sql(\"SELECT value FROM data WHERE name='BrowserBookmarksProbe'\",conn)\n",
      "            a = sqlqry['value']\n",
      "            #b = sqlqry['timestamp']\n",
      "            records = [json.loads(line) for line in a]\n",
      "            for row in records:\n",
      "                dataku.append(row)\n",
      "                \n",
      "\n",
      "    except sqlite3.Error, err:\n",
      "        print \"[INFO] %s\" % err\n",
      "\n",
      "url = [url['url'] for url in dataku]\n",
      "visits = [visits['visits'] for visits in dataku]\n",
      "datazip = zip(url,visits)\n",
      "\n",
      "df = pd.DataFrame(datazip, columns=['url','visits'])\n",
      "\n",
      "dfnew= df['url'].apply(parsed)\n"
     ],
     "language": "python",
     "metadata": {},
     "outputs": [],
     "prompt_number": 15
    },
    {
     "cell_type": "code",
     "collapsed": false,
     "input": [
      "clusterdata = dfnew.head(100)"
     ],
     "language": "python",
     "metadata": {},
     "outputs": [],
     "prompt_number": 16
    },
    {
     "cell_type": "code",
     "collapsed": false,
     "input": [
      "clusterdata.head(10)"
     ],
     "language": "python",
     "metadata": {},
     "outputs": [
      {
       "metadata": {},
       "output_type": "pyout",
       "prompt_number": 17,
       "text": [
        "0       m.blog.naver.com\n",
        "1         m.facebook.com\n",
        "2                details\n",
        "3    story-api.kakao.com\n",
        "4        m.cafe.daum.net\n",
        "5                details\n",
        "6          cafe.daum.net\n",
        "7         m.facebook.com\n",
        "8          j.exit-ad.com\n",
        "9               asked.kr\n",
        "Name: url, dtype: object"
       ]
      }
     ],
     "prompt_number": 17
    },
    {
     "cell_type": "code",
     "collapsed": false,
     "input": [
      "import pprint\n",
      "from difflib import SequenceMatcher\n",
      "\n",
      "# http://python-cluster.sourceforge.net/\n",
      "from cluster import HierarchicalClustering\n",
      "\n",
      "def distance(url1, url2):\n",
      "    ratio = SequenceMatcher(None, url1, url2).ratio()\n",
      "    return 1.0 - ratio\n",
      "\n",
      "# Perform clustering\n",
      "hc = HierarchicalClustering(clusterdata, distance)\n",
      "clusters = hc.getlevel(0.2)\n",
      "\n",
      "pprint.pprint(clusters)"
     ],
     "language": "python",
     "metadata": {},
     "outputs": [
      {
       "output_type": "stream",
       "stream": "stdout",
       "text": [
        "[[u'details', u'details'],\n",
        " [u'auth.waffle.at',\n",
        "  u'auth.waffle.at',\n",
        "  u'auth.waffle.at',\n",
        "  u'auth.waffle.at',\n",
        "  u'auth.waffle.at',\n",
        "  u'auth.waffle.at',\n",
        "  u'auth.waffle.at',\n",
        "  u'auth.waffle.at',\n",
        "  u'auth.waffle.at'],\n",
        " [u'bit.ly'],\n",
        " [u'asked.kr', u'asked.kr', u'asked.kr', u'asked.kr'],\n",
        " [u'cyber.kepco.co.kr',\n",
        "  u'cyber.kepco.co.kr',\n",
        "  u'cyber.kepco.co.kr',\n",
        "  u'cyber.kepco.co.kr',\n",
        "  u'cyber.kepco.co.kr',\n",
        "  u'cyber.kepco.co.kr',\n",
        "  u'cyber.kepco.co.kr',\n",
        "  u'cyber.kepco.co.kr'],\n",
        " [u'jesuside.com.ne.kr'],\n",
        " [u't.co', u't.co'],\n",
        " [u'j.exit-ad.com'],\n",
        " [u'm.event.toast.com'],\n",
        " [u'twitpic.com'],\n",
        " [u'i1.media.daumcdn.net'],\n",
        " [u'cafe.daum.net', u'm.cafe.daum.net', u'm.cafe.daum.net'],\n",
        " [u'eugenejulia.tistory.com'],\n",
        " [u'm.imbc.com'],\n",
        " [u'm.winixcorp.com'],\n",
        " [u'm.humoruniv.com', u'web.humoruniv.com'],\n",
        " [u'ggstory.com'],\n",
        " [u'm.gsshop.com', u'm.gsshop.com'],\n",
        " [u'm.facebook.com',\n",
        "  u'm.facebook.com',\n",
        "  u'm.facebook.com',\n",
        "  u'm.facebook.com',\n",
        "  u'm.facebook.com',\n",
        "  u'm.facebook.com',\n",
        "  u'm.facebook.com',\n",
        "  u'm.facebook.com',\n",
        "  u'm.facebook.com',\n",
        "  u'm.facebook.com',\n",
        "  u'm.facebook.com',\n",
        "  u'm.facebook.com',\n",
        "  u'm.facebook.com',\n",
        "  u'm.facebook.com',\n",
        "  u'm.facebook.com',\n",
        "  u'm.facebook.com',\n",
        "  u'm.facebook.com',\n",
        "  u'm.facebook.com',\n",
        "  u'm.facebook.com'],\n",
        " [u'instagram.com'],\n",
        " [u'm.universaltoy.co.kr'],\n",
        " [u'm.insight.co.kr'],\n",
        " [u'www.shescoming.co.kr',\n",
        "  u'www.shescoming.co.kr',\n",
        "  u'www.shescoming.co.kr',\n",
        "  u'www.shescoming.co.kr',\n",
        "  u'www.shescoming.co.kr'],\n",
        " [u'www.lotteconf.co.kr'],\n",
        " [u'www.skt-lte.co.kr'],\n",
        " [u'www.ebs.co.kr'],\n",
        " [u'm.11am.co.kr'],\n",
        " [u'www.annpiona.co.kr', u'm.hani.co.kr', u'www.hani.co.kr'],\n",
        " [u'www.pulmuoneamio.com'],\n",
        " [u'www.threemusic.com'],\n",
        " [u'www.youtube.com'],\n",
        " [u'www.gobalnews.com'],\n",
        " [u'www.google.com'],\n",
        " [u'www.100tap.com'],\n",
        " [u'story-api.kakao.com'],\n",
        " [u'www.korea-ps.com'],\n",
        " [u'm.blog.naver.com',\n",
        "  u'm.blog.naver.com',\n",
        "  u'm.blog.naver.com',\n",
        "  u'm.blog.naver.com',\n",
        "  u'm.blog.naver.com'],\n",
        " [u'm.cafe.naver.com',\n",
        "  u'm.cafe.naver.com',\n",
        "  u'm.cafe.naver.com',\n",
        "  u'nid.naver.com',\n",
        "  u'nid.naver.com',\n",
        "  u'www.naver.com',\n",
        "  u'm.news.naver.com',\n",
        "  u'news.naver.com'],\n",
        " [u'plus.kakao.com'],\n",
        " [u'www.dalkomm.com'],\n",
        " [u'www.kakao.com']]\n"
       ]
      }
     ],
     "prompt_number": 18
    },
    {
     "cell_type": "code",
     "collapsed": false,
     "input": [],
     "language": "python",
     "metadata": {},
     "outputs": []
    }
   ],
   "metadata": {}
  }
 ]
}