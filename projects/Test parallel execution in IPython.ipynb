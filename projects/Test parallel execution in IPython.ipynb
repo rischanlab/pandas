{
 "metadata": {
  "name": "",
  "signature": "sha256:c6b121c00cc3173b2a00babad27ce237c4456dc215183be74b97099fcc3c8630"
 },
 "nbformat": 3,
 "nbformat_minor": 0,
 "worksheets": [
  {
   "cells": [
    {
     "cell_type": "code",
     "collapsed": false,
     "input": [
      "import pandas as pd\n",
      "import numpy as np\n",
      "import os, sqlite3\n",
      "import json\n",
      "import urlparse\n",
      "import pprint\n",
      "from datetime import datetime\n",
      "from difflib import SequenceMatcher\n",
      "from difflib import SequenceMatcher\n",
      "from cluster import HierarchicalClustering\n",
      "from urllib import urlencode\n",
      "from urlparse import urlparse, parse_qs, urlunparse\n",
      "\n",
      "\n",
      "lines = []\n",
      "\n",
      "databases = []\n",
      "dataku = []\n",
      "\n",
      "def parsed(x):\n",
      "    parse = urlparse(x)\n",
      "    return parse.netloc\n",
      "\n",
      "def distance(url1, url2):\n",
      "    ratio = SequenceMatcher(None, url1, url2).ratio()\n",
      "    return 1.0 - ratio\n",
      "\n",
      "def loaddata(path):\n",
      "    directory = path\n",
      "    for filename in os.listdir(directory):\n",
      "        flname = os.path.join(directory, filename)\n",
      "        databases.append(flname)\n",
      "\n",
      "    for database in databases:\n",
      "\n",
      "        try:\n",
      "            with sqlite3.connect(database) as conn:\n",
      "                cur = conn.cursor()\n",
      "                sqlqry = pd.read_sql(\"SELECT value FROM data WHERE name='BrowserBookmarksProbe'\",conn)\n",
      "                a = sqlqry['value']\n",
      "                #b = sqlqry['timestamp']\n",
      "                records = [json.loads(line) for line in a]\n",
      "                for row in records:\n",
      "                    dataku.append(row)\n",
      "                \n",
      "\n",
      "        except sqlite3.Error, err:\n",
      "            print \"[INFO] %s\" % err\n",
      "\n",
      "    url = [url['url'] for url in dataku]\n",
      "    visits = [visits['visits'] for visits in dataku]\n",
      "    datazip = zip(url,visits)\n",
      "\n",
      "    df = pd.DataFrame(datazip, columns=['url','visits'])\n",
      "\n",
      "    dfnew= df['url'].apply(parsed)\n",
      "    dfnew = dfnew.apply(str)\n",
      "    return dfnew\n",
      "\n",
      "def clustering(data):\n",
      "    hc = HierarchicalClustering(data, distance)\n",
      "    clusters = hc.getlevel(0.2)\n",
      "    return clusters\n",
      "\n",
      "\n",
      "\n",
      "startTime = datetime.now()\n",
      "\n",
      "dfurl = loaddata(\"D:/DATA/example\")\n",
      "data = dfurl.head(100)\n",
      "result = clustering(data)\n",
      "    \n",
      "timeprocess = datetime.now()-startTime\n",
      "\n",
      "print \"time execution is %s, \" % timeprocess\n"
     ],
     "language": "python",
     "metadata": {},
     "outputs": [
      {
       "output_type": "stream",
       "stream": "stdout",
       "text": [
        "time execution is 0:00:45.077000, \n"
       ]
      }
     ],
     "prompt_number": 1
    },
    {
     "cell_type": "code",
     "collapsed": false,
     "input": [
      "len(dfurl)"
     ],
     "language": "python",
     "metadata": {},
     "outputs": [
      {
       "metadata": {},
       "output_type": "pyout",
       "prompt_number": 2,
       "text": [
        "356993"
       ]
      }
     ],
     "prompt_number": 2
    },
    {
     "cell_type": "code",
     "collapsed": false,
     "input": [
      "#Parallel computing\n",
      "from IPython.parallel import Client\n",
      "rc = Client()\n",
      "v = rc[:]\n",
      "v"
     ],
     "language": "python",
     "metadata": {},
     "outputs": [
      {
       "metadata": {},
       "output_type": "pyout",
       "prompt_number": 6,
       "text": [
        "<DirectView [0, 1, 2, 3]>"
       ]
      }
     ],
     "prompt_number": 6
    },
    {
     "cell_type": "code",
     "collapsed": false,
     "input": [
      "def executionah():\n",
      "    dfurl = loaddata(\"D:/DATA/example\")\n",
      "    #data = dfurl.head(100)\n",
      "    #result = clustering(data)\n",
      "    return dfurl\n",
      "\n",
      "\n",
      "startTime = datetime.now()\n",
      "\n",
      "hasil = dv.apply_async(executionah)\n",
      "\n",
      "timeprocess = datetime.now()-startTime\n",
      "\n",
      "print \"time execution is %s, \" % timeprocess"
     ],
     "language": "python",
     "metadata": {},
     "outputs": [
      {
       "output_type": "stream",
       "stream": "stdout",
       "text": [
        "time execution is 0:00:00.016000, \n"
       ]
      }
     ],
     "prompt_number": 30
    },
    {
     "cell_type": "code",
     "collapsed": false,
     "input": [
      "hasil.data"
     ],
     "language": "python",
     "metadata": {},
     "outputs": [
      {
       "metadata": {},
       "output_type": "pyout",
       "prompt_number": 31,
       "text": [
        "[{},\n",
        " {},\n",
        " {},\n",
        " {},\n",
        " {},\n",
        " {},\n",
        " {},\n",
        " {},\n",
        " {},\n",
        " {},\n",
        " {},\n",
        " {},\n",
        " {},\n",
        " {},\n",
        " {},\n",
        " {},\n",
        " {},\n",
        " {},\n",
        " {},\n",
        " {}]"
       ]
      }
     ],
     "prompt_number": 31
    },
    {
     "cell_type": "code",
     "collapsed": false,
     "input": [],
     "language": "python",
     "metadata": {},
     "outputs": []
    }
   ],
   "metadata": {}
  }
 ]
}