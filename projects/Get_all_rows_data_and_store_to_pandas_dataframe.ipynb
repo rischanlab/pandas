{
 "metadata": {
  "name": "",
  "signature": "sha256:00b8a980dae26b771e1993ec4cd01bc3a1122fcfee6340041c1a9b3a87d3cae2"
 },
 "nbformat": 3,
 "nbformat_minor": 0,
 "worksheets": [
  {
   "cells": [
    {
     "cell_type": "code",
     "collapsed": false,
     "input": [
      "#coded by Agung, PhD\n",
      "import pandas as pd\n",
      "import numpy as np\n",
      "import os, sqlite3\n",
      "import json\n",
      "\n",
      "\n",
      "databases = []\n",
      "dataku = []\n",
      "directory = \"D:/DATA/example\"\n",
      "for filename in os.listdir(directory):\n",
      "    flname = os.path.join(directory, filename)\n",
      "    databases.append(flname)\n",
      "\n",
      "for database in databases:\n",
      "\n",
      "    try:\n",
      "        with sqlite3.connect(database) as conn:\n",
      "            cur = conn.cursor()\n",
      "            sqlqry = pd.read_sql(\"SELECT value FROM data WHERE name='BrowserBookmarksProbe'\",conn)\n",
      "            a = sqlqry['value']\n",
      "            records = [json.loads(line) for line in a]\n",
      "            for row in records:\n",
      "                dataku.append(row)\n",
      "\n",
      "    except sqlite3.Error, err:\n",
      "        print \"[INFO] %s\" % err\n",
      "\n",
      "url = [url['url'] for url in dataku]\n",
      "visits = [visits['visits'] for visits in dataku]\n",
      "datazip = zip(url,visits)\n",
      "frame = pd.DataFrame(data=datazip, columns=['url','visits'])\n"
     ],
     "language": "python",
     "metadata": {},
     "outputs": [],
     "prompt_number": 79
    },
    {
     "cell_type": "code",
     "collapsed": false,
     "input": [
      "frame.head(20)"
     ],
     "language": "python",
     "metadata": {},
     "outputs": [
      {
       "html": [
        "<div style=\"max-height:1000px;max-width:1500px;overflow:auto;\">\n",
        "<table border=\"1\" class=\"dataframe\">\n",
        "  <thead>\n",
        "    <tr style=\"text-align: right;\">\n",
        "      <th></th>\n",
        "      <th>url</th>\n",
        "      <th>visits</th>\n",
        "    </tr>\n",
        "  </thead>\n",
        "  <tbody>\n",
        "    <tr>\n",
        "      <th>0 </th>\n",
        "      <td> http://m.blog.naver.com/PostView.nhn?blogId=mi...</td>\n",
        "      <td>   2</td>\n",
        "    </tr>\n",
        "    <tr>\n",
        "      <th>1 </th>\n",
        "      <td> http://m.facebook.com/l.php?u=http%3A%2F%2Fblo...</td>\n",
        "      <td>   1</td>\n",
        "    </tr>\n",
        "    <tr>\n",
        "      <th>2 </th>\n",
        "      <td>               market://details?id=com.kakao.story</td>\n",
        "      <td>   1</td>\n",
        "    </tr>\n",
        "    <tr>\n",
        "      <th>3 </th>\n",
        "      <td>       https://story-api.kakao.com/upgrade/install</td>\n",
        "      <td>   4</td>\n",
        "    </tr>\n",
        "    <tr>\n",
        "      <th>4 </th>\n",
        "      <td> http://m.cafe.daum.net/WorldcupLove/Knj/173424...</td>\n",
        "      <td>   1</td>\n",
        "    </tr>\n",
        "    <tr>\n",
        "      <th>5 </th>\n",
        "      <td> market://details?id=jp.antenna.app&amp;referrer=_x...</td>\n",
        "      <td>   1</td>\n",
        "    </tr>\n",
        "    <tr>\n",
        "      <th>6 </th>\n",
        "      <td> http://cafe.daum.net/WorldcupLove/Knj/1734240?...</td>\n",
        "      <td>   1</td>\n",
        "    </tr>\n",
        "    <tr>\n",
        "      <th>7 </th>\n",
        "      <td> http://m.facebook.com/l.php?u=http%3A%2F%2Fcaf...</td>\n",
        "      <td>   1</td>\n",
        "    </tr>\n",
        "    <tr>\n",
        "      <th>8 </th>\n",
        "      <td> http://j.exit-ad.com/js/rd.html?cid=bb41ed7788...</td>\n",
        "      <td>   2</td>\n",
        "    </tr>\n",
        "    <tr>\n",
        "      <th>9 </th>\n",
        "      <td>                 http://asked.kr/ask.php?id=689351</td>\n",
        "      <td> 312</td>\n",
        "    </tr>\n",
        "    <tr>\n",
        "      <th>10</th>\n",
        "      <td>                http://asked.kr/ask.php?id=1927949</td>\n",
        "      <td>   2</td>\n",
        "    </tr>\n",
        "    <tr>\n",
        "      <th>11</th>\n",
        "      <td> http://m.facebook.com/l.php?u=http%3A%2F%2Fask...</td>\n",
        "      <td>   1</td>\n",
        "    </tr>\n",
        "    <tr>\n",
        "      <th>12</th>\n",
        "      <td> http://www.pulmuoneamio.com/talk/event_view.js...</td>\n",
        "      <td>   3</td>\n",
        "    </tr>\n",
        "    <tr>\n",
        "      <th>13</th>\n",
        "      <td> http://m.facebook.com/l.php?u=http%3A%2F%2Fwww...</td>\n",
        "      <td>   1</td>\n",
        "    </tr>\n",
        "    <tr>\n",
        "      <th>14</th>\n",
        "      <td>         http://eugenejulia.tistory.com/m/post/192</td>\n",
        "      <td>   4</td>\n",
        "    </tr>\n",
        "    <tr>\n",
        "      <th>15</th>\n",
        "      <td> http://m.facebook.com/l.php?u=http%3A%2F%2Feug...</td>\n",
        "      <td>   1</td>\n",
        "    </tr>\n",
        "    <tr>\n",
        "      <th>16</th>\n",
        "      <td>                           http://m.winixcorp.com/</td>\n",
        "      <td>   2</td>\n",
        "    </tr>\n",
        "    <tr>\n",
        "      <th>17</th>\n",
        "      <td>                http://www.kakao.com/fightingkorea</td>\n",
        "      <td>   2</td>\n",
        "    </tr>\n",
        "    <tr>\n",
        "      <th>18</th>\n",
        "      <td> http://plus.kakao.com/friend/@%EC%B9%B4%EC%B9%...</td>\n",
        "      <td>   1</td>\n",
        "    </tr>\n",
        "    <tr>\n",
        "      <th>19</th>\n",
        "      <td> https://auth.waffle.at/login?res=notyet&amp;uamip=...</td>\n",
        "      <td>   3</td>\n",
        "    </tr>\n",
        "  </tbody>\n",
        "</table>\n",
        "</div>"
       ],
       "metadata": {},
       "output_type": "pyout",
       "prompt_number": 78,
       "text": [
        "                                                  url  visits\n",
        "0   http://m.blog.naver.com/PostView.nhn?blogId=mi...       2\n",
        "1   http://m.facebook.com/l.php?u=http%3A%2F%2Fblo...       1\n",
        "2                 market://details?id=com.kakao.story       1\n",
        "3         https://story-api.kakao.com/upgrade/install       4\n",
        "4   http://m.cafe.daum.net/WorldcupLove/Knj/173424...       1\n",
        "5   market://details?id=jp.antenna.app&referrer=_x...       1\n",
        "6   http://cafe.daum.net/WorldcupLove/Knj/1734240?...       1\n",
        "7   http://m.facebook.com/l.php?u=http%3A%2F%2Fcaf...       1\n",
        "8   http://j.exit-ad.com/js/rd.html?cid=bb41ed7788...       2\n",
        "9                   http://asked.kr/ask.php?id=689351     312\n",
        "10                 http://asked.kr/ask.php?id=1927949       2\n",
        "11  http://m.facebook.com/l.php?u=http%3A%2F%2Fask...       1\n",
        "12  http://www.pulmuoneamio.com/talk/event_view.js...       3\n",
        "13  http://m.facebook.com/l.php?u=http%3A%2F%2Fwww...       1\n",
        "14          http://eugenejulia.tistory.com/m/post/192       4\n",
        "15  http://m.facebook.com/l.php?u=http%3A%2F%2Feug...       1\n",
        "16                            http://m.winixcorp.com/       2\n",
        "17                 http://www.kakao.com/fightingkorea       2\n",
        "18  http://plus.kakao.com/friend/@%EC%B9%B4%EC%B9%...       1\n",
        "19  https://auth.waffle.at/login?res=notyet&uamip=...       3"
       ]
      }
     ],
     "prompt_number": 78
    }
   ],
   "metadata": {}
  }
 ]
}