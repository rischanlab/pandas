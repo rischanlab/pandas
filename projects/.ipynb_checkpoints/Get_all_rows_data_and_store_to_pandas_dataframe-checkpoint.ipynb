{
 "metadata": {
  "name": "",
  "signature": "sha256:9f1dc2804da40ecba56a05d5598639e58b1f8026fe3086878025cce125f1fd99"
 },
 "nbformat": 3,
 "nbformat_minor": 0,
 "worksheets": [
  {
   "cells": [
    {
     "cell_type": "code",
     "collapsed": false,
     "input": [
      "#coded by Agung, PhD\n",
      "import pandas as pd\n",
      "import numpy as np\n",
      "import os, sqlite3\n",
      "import json\n",
      "\n",
      "\n",
      "databases = []\n",
      "dataku = []\n",
      "directory = \"D:/DATA/example\"\n",
      "for filename in os.listdir(directory):\n",
      "    flname = os.path.join(directory, filename)\n",
      "    databases.append(flname)\n",
      "\n",
      "for database in databases:\n",
      "\n",
      "    try:\n",
      "        with sqlite3.connect(database) as conn:\n",
      "            cur = conn.cursor()\n",
      "            sqlqry = pd.read_sql(\"SELECT value FROM data WHERE name='BrowserBookmarksProbe'\",conn)\n",
      "            a = sqlqry['value']\n",
      "            records = [json.loads(line) for line in a]\n",
      "            for row in records:\n",
      "                dataku.append(row)\n",
      "\n",
      "    except sqlite3.Error, err:\n",
      "        print \"[INFO] %s\" % err\n",
      "\n",
      "url = [url['url'] for url in dataku]\n",
      "visits = [visits['visits'] for visits in dataku]\n",
      "datazip = zip(url,visits)\n",
      "frame = pd.DataFrame(data=datazip, columns=['url','visits'])\n"
     ],
     "language": "python",
     "metadata": {},
     "outputs": [],
     "prompt_number": 7
    },
    {
     "cell_type": "code",
     "collapsed": false,
     "input": [
      "urls = frame['url']"
     ],
     "language": "python",
     "metadata": {},
     "outputs": [],
     "prompt_number": 10
    },
    {
     "cell_type": "code",
     "collapsed": false,
     "input": [
      "import pprint\n",
      "from difflib import SequenceMatcher\n",
      "\n",
      "# http://python-cluster.sourceforge.net/\n",
      "from cluster import HierarchicalClustering\n",
      "\n",
      "def distance(url1, url2):\n",
      "    ratio = SequenceMatcher(None, url1, url2).ratio()\n",
      "    return 1.0 - ratio\n",
      "\n",
      "# Perform clustering\n",
      "hc = HierarchicalClustering(urls, distance)\n",
      "clusters = hc.getlevel(0.2)\n",
      "\n",
      "pprint.pprint(clusters)"
     ],
     "language": "python",
     "metadata": {},
     "outputs": []
    }
   ],
   "metadata": {}
  }
 ]
}